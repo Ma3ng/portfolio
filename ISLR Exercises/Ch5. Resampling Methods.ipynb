{
 "cells": [
  {
   "cell_type": "code",
   "execution_count": 1,
   "id": "0ac75f2e",
   "metadata": {},
   "outputs": [],
   "source": [
    "import numpy as np\n",
    "import matplotlib as plt \n",
    "import seaborn as sns\n",
    "import pandas as pd\n",
    "import statsmodels.api as sm\n",
    "\n",
    "plt.style.use(\"Solarize_Light2\")"
   ]
  },
  {
   "cell_type": "markdown",
   "id": "e6343cd6",
   "metadata": {},
   "source": [
    "### 5. In Chapter 4, we used logistic regression to predict the probability of default using income and balance on the Default data set. We will now estimate the test error of this logistic regression model using the validation set approach. Do not forget to set a random seed before beginning your analysis."
   ]
  },
  {
   "cell_type": "code",
   "execution_count": 2,
   "id": "f738e18c",
   "metadata": {},
   "outputs": [
    {
     "data": {
      "text/html": [
       "<div>\n",
       "<style scoped>\n",
       "    .dataframe tbody tr th:only-of-type {\n",
       "        vertical-align: middle;\n",
       "    }\n",
       "\n",
       "    .dataframe tbody tr th {\n",
       "        vertical-align: top;\n",
       "    }\n",
       "\n",
       "    .dataframe thead th {\n",
       "        text-align: right;\n",
       "    }\n",
       "</style>\n",
       "<table border=\"1\" class=\"dataframe\">\n",
       "  <thead>\n",
       "    <tr style=\"text-align: right;\">\n",
       "      <th></th>\n",
       "      <th>default</th>\n",
       "      <th>student</th>\n",
       "      <th>balance</th>\n",
       "      <th>income</th>\n",
       "    </tr>\n",
       "  </thead>\n",
       "  <tbody>\n",
       "    <tr>\n",
       "      <th>0</th>\n",
       "      <td>No</td>\n",
       "      <td>0</td>\n",
       "      <td>729.526495</td>\n",
       "      <td>44361.625074</td>\n",
       "    </tr>\n",
       "    <tr>\n",
       "      <th>1</th>\n",
       "      <td>No</td>\n",
       "      <td>1</td>\n",
       "      <td>817.180407</td>\n",
       "      <td>12106.134700</td>\n",
       "    </tr>\n",
       "    <tr>\n",
       "      <th>2</th>\n",
       "      <td>No</td>\n",
       "      <td>0</td>\n",
       "      <td>1073.549164</td>\n",
       "      <td>31767.138947</td>\n",
       "    </tr>\n",
       "    <tr>\n",
       "      <th>3</th>\n",
       "      <td>No</td>\n",
       "      <td>0</td>\n",
       "      <td>529.250605</td>\n",
       "      <td>35704.493935</td>\n",
       "    </tr>\n",
       "    <tr>\n",
       "      <th>4</th>\n",
       "      <td>No</td>\n",
       "      <td>0</td>\n",
       "      <td>785.655883</td>\n",
       "      <td>38463.495879</td>\n",
       "    </tr>\n",
       "    <tr>\n",
       "      <th>...</th>\n",
       "      <td>...</td>\n",
       "      <td>...</td>\n",
       "      <td>...</td>\n",
       "      <td>...</td>\n",
       "    </tr>\n",
       "    <tr>\n",
       "      <th>9995</th>\n",
       "      <td>No</td>\n",
       "      <td>0</td>\n",
       "      <td>711.555020</td>\n",
       "      <td>52992.378914</td>\n",
       "    </tr>\n",
       "    <tr>\n",
       "      <th>9996</th>\n",
       "      <td>No</td>\n",
       "      <td>0</td>\n",
       "      <td>757.962918</td>\n",
       "      <td>19660.721768</td>\n",
       "    </tr>\n",
       "    <tr>\n",
       "      <th>9997</th>\n",
       "      <td>No</td>\n",
       "      <td>0</td>\n",
       "      <td>845.411989</td>\n",
       "      <td>58636.156984</td>\n",
       "    </tr>\n",
       "    <tr>\n",
       "      <th>9998</th>\n",
       "      <td>No</td>\n",
       "      <td>0</td>\n",
       "      <td>1569.009053</td>\n",
       "      <td>36669.112365</td>\n",
       "    </tr>\n",
       "    <tr>\n",
       "      <th>9999</th>\n",
       "      <td>No</td>\n",
       "      <td>1</td>\n",
       "      <td>200.922183</td>\n",
       "      <td>16862.952321</td>\n",
       "    </tr>\n",
       "  </tbody>\n",
       "</table>\n",
       "<p>10000 rows × 4 columns</p>\n",
       "</div>"
      ],
      "text/plain": [
       "     default  student      balance        income\n",
       "0         No        0   729.526495  44361.625074\n",
       "1         No        1   817.180407  12106.134700\n",
       "2         No        0  1073.549164  31767.138947\n",
       "3         No        0   529.250605  35704.493935\n",
       "4         No        0   785.655883  38463.495879\n",
       "...      ...      ...          ...           ...\n",
       "9995      No        0   711.555020  52992.378914\n",
       "9996      No        0   757.962918  19660.721768\n",
       "9997      No        0   845.411989  58636.156984\n",
       "9998      No        0  1569.009053  36669.112365\n",
       "9999      No        1   200.922183  16862.952321\n",
       "\n",
       "[10000 rows x 4 columns]"
      ]
     },
     "execution_count": 2,
     "metadata": {},
     "output_type": "execute_result"
    }
   ],
   "source": [
    "default_df = pd.read_csv(\"data/Default.csv\")\n",
    "default_df.student = default_df.student.map({\"Yes\": 1,\n",
    "                                            \"No\": 0})\n",
    "default_df"
   ]
  },
  {
   "cell_type": "markdown",
   "id": "e2ab241a",
   "metadata": {},
   "source": [
    "#### (a) Fit a logistic regression model that uses income and balance to predict default.\n",
    "\n",
    "#### (b) Using the validation set approach, estimate the test error of this model. In order to do this, you must perform the following steps:\n",
    "  * i. Split the sample set into a training set and a validation set.\n",
    "  * ii. Fit a multiple logistic regression model using only the training observations.\n",
    "  * iii. Obtain a prediction of default status for each individual in the validation set by computing the posterior probability of default for that individual, and classifying the individual to the default category if the posterior probability is greater than 0.5.\n",
    "  * iv. Compute the validation set error, which is the fraction of the observations in the validation set that are misclassified."
   ]
  },
  {
   "cell_type": "code",
   "execution_count": 3,
   "id": "c4db3ca7",
   "metadata": {},
   "outputs": [
    {
     "data": {
      "text/plain": [
       "0.027599999999999958"
      ]
     },
     "execution_count": 3,
     "metadata": {},
     "output_type": "execute_result"
    }
   ],
   "source": [
    "from sklearn.model_selection import train_test_split\n",
    "from sklearn.linear_model import LogisticRegression as Logit\n",
    "from sklearn.metrics import accuracy_score\n",
    "\n",
    "X_train, X_test, y_train, y_test = train_test_split(default_df[[\"income\", \"balance\"]], default_df[\"default\"], random_state=42)\n",
    "\n",
    "logit = Logit().fit(X_train, y_train)\n",
    "preds = logit.predict(X_test)\n",
    "valid_error = 1 - accuracy_score(y_test, preds)\n",
    "valid_error\n"
   ]
  },
  {
   "cell_type": "markdown",
   "id": "15c82e9c",
   "metadata": {},
   "source": [
    "#### (c) Repeat the process in (b) three times, using three different splits of the observations into a training set and a validation set. Comment on the results obtained."
   ]
  },
  {
   "cell_type": "code",
   "execution_count": 4,
   "id": "983957f5",
   "metadata": {},
   "outputs": [
    {
     "name": "stdout",
     "output_type": "stream",
     "text": [
      "Validation Errors:  [0.02639472 0.02850285 0.03420342]\n"
     ]
    }
   ],
   "source": [
    "from sklearn.model_selection import cross_validate\n",
    "cv = cross_validate(Logit(), default_df[[\"income\", \"balance\"]], default_df[\"default\"], cv=3)\n",
    "print(\"Validation Errors: \", 1- cv[\"test_score\"])"
   ]
  },
  {
   "cell_type": "markdown",
   "id": "9b26e325",
   "metadata": {},
   "source": [
    "#### (d) Now consider a logistic regression model that predicts the probability of default using income, balance, and a dummy variable for student. Estimate the test error for this model using the validation set approach. Comment on whether or not including a dummy variable for student leads to a reduction in the test error rate."
   ]
  },
  {
   "cell_type": "code",
   "execution_count": 5,
   "id": "978a265e",
   "metadata": {},
   "outputs": [
    {
     "name": "stdout",
     "output_type": "stream",
     "text": [
      "Validation Errors:  [0.02639472 0.02850285 0.03420342]\n"
     ]
    }
   ],
   "source": [
    "cv = cross_validate(Logit(), default_df[[\"student\", \"income\", \"balance\"]], default_df[\"default\"], cv=3)\n",
    "print(\"Validation Errors: \", 1- cv[\"test_score\"])"
   ]
  },
  {
   "cell_type": "markdown",
   "id": "1655a56f",
   "metadata": {},
   "source": [
    "Adding the student variable did not improve the validation errors."
   ]
  },
  {
   "cell_type": "markdown",
   "id": "b5d949c3",
   "metadata": {},
   "source": [
    "### 6. We continue to consider the use of a logistic regression model to predict the probability of default using income and balance on the Default data set. In particular, we will now compute estimates for the standard errors of the income and balance logistic regression coefficients in two different ways: (1) using the bootstrap, and (2) using the standard formula for computing the standard errors in the glm() function. Do not forget to set a random seed before beginning your analysis.\n",
    "\n",
    "#### (a) Using the summary() and glm() functions, determine the estimated standard errors for the coefficients associated with income and balance in a multiple logistic regression model that uses both predictors."
   ]
  },
  {
   "cell_type": "code",
   "execution_count": 6,
   "id": "a8c3f84d",
   "metadata": {},
   "outputs": [
    {
     "name": "stdout",
     "output_type": "stream",
     "text": [
      "Optimization terminated successfully.\n",
      "         Current function value: 0.078948\n",
      "         Iterations 10\n"
     ]
    },
    {
     "data": {
      "text/html": [
       "<table class=\"simpletable\">\n",
       "<caption>Logit Regression Results</caption>\n",
       "<tr>\n",
       "  <th>Dep. Variable:</th>        <td>default</td>     <th>  No. Observations:  </th>   <td> 10000</td>  \n",
       "</tr>\n",
       "<tr>\n",
       "  <th>Model:</th>                 <td>Logit</td>      <th>  Df Residuals:      </th>   <td>  9997</td>  \n",
       "</tr>\n",
       "<tr>\n",
       "  <th>Method:</th>                 <td>MLE</td>       <th>  Df Model:          </th>   <td>     2</td>  \n",
       "</tr>\n",
       "<tr>\n",
       "  <th>Date:</th>            <td>Fri, 04 Aug 2023</td> <th>  Pseudo R-squ.:     </th>   <td>0.4594</td>  \n",
       "</tr>\n",
       "<tr>\n",
       "  <th>Time:</th>                <td>14:41:03</td>     <th>  Log-Likelihood:    </th>  <td> -789.48</td> \n",
       "</tr>\n",
       "<tr>\n",
       "  <th>converged:</th>             <td>True</td>       <th>  LL-Null:           </th>  <td> -1460.3</td> \n",
       "</tr>\n",
       "<tr>\n",
       "  <th>Covariance Type:</th>     <td>nonrobust</td>    <th>  LLR p-value:       </th> <td>4.541e-292</td>\n",
       "</tr>\n",
       "</table>\n",
       "<table class=\"simpletable\">\n",
       "<tr>\n",
       "     <td></td>        <th>coef</th>     <th>std err</th>      <th>z</th>      <th>P>|z|</th>  <th>[0.025</th>    <th>0.975]</th>  \n",
       "</tr>\n",
       "<tr>\n",
       "  <th>const</th>   <td>  -11.5405</td> <td>    0.435</td> <td>  -26.544</td> <td> 0.000</td> <td>  -12.393</td> <td>  -10.688</td>\n",
       "</tr>\n",
       "<tr>\n",
       "  <th>income</th>  <td> 2.081e-05</td> <td> 4.99e-06</td> <td>    4.174</td> <td> 0.000</td> <td>  1.1e-05</td> <td> 3.06e-05</td>\n",
       "</tr>\n",
       "<tr>\n",
       "  <th>balance</th> <td>    0.0056</td> <td>    0.000</td> <td>   24.835</td> <td> 0.000</td> <td>    0.005</td> <td>    0.006</td>\n",
       "</tr>\n",
       "</table><br/><br/>Possibly complete quasi-separation: A fraction 0.14 of observations can be<br/>perfectly predicted. This might indicate that there is complete<br/>quasi-separation. In this case some parameters will not be identified."
      ],
      "text/plain": [
       "<class 'statsmodels.iolib.summary.Summary'>\n",
       "\"\"\"\n",
       "                           Logit Regression Results                           \n",
       "==============================================================================\n",
       "Dep. Variable:                default   No. Observations:                10000\n",
       "Model:                          Logit   Df Residuals:                     9997\n",
       "Method:                           MLE   Df Model:                            2\n",
       "Date:                Fri, 04 Aug 2023   Pseudo R-squ.:                  0.4594\n",
       "Time:                        14:41:03   Log-Likelihood:                -789.48\n",
       "converged:                       True   LL-Null:                       -1460.3\n",
       "Covariance Type:            nonrobust   LLR p-value:                4.541e-292\n",
       "==============================================================================\n",
       "                 coef    std err          z      P>|z|      [0.025      0.975]\n",
       "------------------------------------------------------------------------------\n",
       "const        -11.5405      0.435    -26.544      0.000     -12.393     -10.688\n",
       "income      2.081e-05   4.99e-06      4.174      0.000     1.1e-05    3.06e-05\n",
       "balance        0.0056      0.000     24.835      0.000       0.005       0.006\n",
       "==============================================================================\n",
       "\n",
       "Possibly complete quasi-separation: A fraction 0.14 of observations can be\n",
       "perfectly predicted. This might indicate that there is complete\n",
       "quasi-separation. In this case some parameters will not be identified.\n",
       "\"\"\""
      ]
     },
     "execution_count": 6,
     "metadata": {},
     "output_type": "execute_result"
    }
   ],
   "source": [
    "X_6 = default_df[[\"income\", \"balance\"]]\n",
    "X_6 = sm.add_constant(X_6)\n",
    "y_6 = default_df[[\"default\"]] == \"Yes\"\n",
    "\n",
    "log_model6 = sm.Logit(y_6, X_6).fit()\n",
    "log_model6.summary()"
   ]
  },
  {
   "cell_type": "markdown",
   "id": "b4dbeaa3",
   "metadata": {},
   "source": [
    "#### (b) Write a function, boot.fn(), that takes as input the Default data set as well as an index of the observations, and that outputs the coefficient estimates for income and balance in the multiple logistic regression model."
   ]
  },
  {
   "cell_type": "code",
   "execution_count": 7,
   "id": "ce021c4e",
   "metadata": {},
   "outputs": [],
   "source": [
    "def boot(X, y, index):\n",
    "    \n",
    "    logit = sm.Logit(y.iloc[index], X.iloc[index]).fit(disp=False)\n",
    "    \n",
    "    params = logit.params\n",
    "    std_err = logit.bse\n",
    "    \n",
    "    return params.to_list()\n",
    "\n",
    "def boot_iter(X, y, n=1000):\n",
    "    index = np.random.randint(low=0, high=len(y), size=(n, len(y)))\n",
    "    res = []\n",
    "    \n",
    "    for i, idx in enumerate(index):\n",
    "        param = boot(X, y, idx)\n",
    "        res.append(param)\n",
    "        \n",
    "    res = pd.DataFrame(res, columns=X.columns)\n",
    "    return res"
   ]
  },
  {
   "cell_type": "markdown",
   "id": "a7b5d864",
   "metadata": {},
   "source": [
    "#### (c) Use the boot() function together with your boot.fn() function to estimate the standard errors of the logistic regression coefficients for income and balance."
   ]
  },
  {
   "cell_type": "code",
   "execution_count": 8,
   "id": "0355ddb6",
   "metadata": {},
   "outputs": [],
   "source": [
    "param_est = boot_iter(X_6, y_6)"
   ]
  },
  {
   "cell_type": "code",
   "execution_count": 9,
   "id": "b9e5043b",
   "metadata": {},
   "outputs": [
    {
     "data": {
      "text/plain": [
       "const      0.429078\n",
       "income     0.000005\n",
       "balance    0.000228\n",
       "dtype: float64"
      ]
     },
     "execution_count": 9,
     "metadata": {},
     "output_type": "execute_result"
    }
   ],
   "source": [
    "param_est.std()"
   ]
  },
  {
   "cell_type": "markdown",
   "id": "8bd7cc18",
   "metadata": {},
   "source": [
    "#### (d) Comment on the estimated standard errors obtained using the glm() function and using your bootstrap function.\n",
    "\n",
    "We see that the estimate from the statsmodels software is very similar to our bootstrapped estimates."
   ]
  },
  {
   "cell_type": "markdown",
   "id": "31bd55a2",
   "metadata": {},
   "source": [
    "### 7.  In Sections 5.1.2 and 5.1.3, we saw that the cross_validate() function can be used in order to compute the LOOCV test error estimate. Alternatively, one could compute those quantities using just sm.GLM() and the predict() method of the ftted model within a for loop. You will now take this approach in order to compute the LOOCV error for a simple logistic regression model on the Weekly data set. Recall that in the context of classifcation problems, the LOOCV error is given in (5.4).\n",
    "\n",
    "#### (a) Fit a logistic regression model that predicts Direction using Lag1 and Lag2\n"
   ]
  },
  {
   "cell_type": "code",
   "execution_count": 11,
   "id": "ee6d0d98",
   "metadata": {},
   "outputs": [
    {
     "data": {
      "text/html": [
       "<div>\n",
       "<style scoped>\n",
       "    .dataframe tbody tr th:only-of-type {\n",
       "        vertical-align: middle;\n",
       "    }\n",
       "\n",
       "    .dataframe tbody tr th {\n",
       "        vertical-align: top;\n",
       "    }\n",
       "\n",
       "    .dataframe thead th {\n",
       "        text-align: right;\n",
       "    }\n",
       "</style>\n",
       "<table border=\"1\" class=\"dataframe\">\n",
       "  <thead>\n",
       "    <tr style=\"text-align: right;\">\n",
       "      <th></th>\n",
       "      <th>Year</th>\n",
       "      <th>Lag1</th>\n",
       "      <th>Lag2</th>\n",
       "      <th>Lag3</th>\n",
       "      <th>Lag4</th>\n",
       "      <th>Lag5</th>\n",
       "      <th>Volume</th>\n",
       "      <th>Today</th>\n",
       "      <th>Direction</th>\n",
       "    </tr>\n",
       "  </thead>\n",
       "  <tbody>\n",
       "    <tr>\n",
       "      <th>0</th>\n",
       "      <td>1990</td>\n",
       "      <td>0.816</td>\n",
       "      <td>1.572</td>\n",
       "      <td>-3.936</td>\n",
       "      <td>-0.229</td>\n",
       "      <td>-3.484</td>\n",
       "      <td>0.154976</td>\n",
       "      <td>-0.270</td>\n",
       "      <td>Down</td>\n",
       "    </tr>\n",
       "    <tr>\n",
       "      <th>1</th>\n",
       "      <td>1990</td>\n",
       "      <td>-0.270</td>\n",
       "      <td>0.816</td>\n",
       "      <td>1.572</td>\n",
       "      <td>-3.936</td>\n",
       "      <td>-0.229</td>\n",
       "      <td>0.148574</td>\n",
       "      <td>-2.576</td>\n",
       "      <td>Down</td>\n",
       "    </tr>\n",
       "    <tr>\n",
       "      <th>2</th>\n",
       "      <td>1990</td>\n",
       "      <td>-2.576</td>\n",
       "      <td>-0.270</td>\n",
       "      <td>0.816</td>\n",
       "      <td>1.572</td>\n",
       "      <td>-3.936</td>\n",
       "      <td>0.159837</td>\n",
       "      <td>3.514</td>\n",
       "      <td>Up</td>\n",
       "    </tr>\n",
       "    <tr>\n",
       "      <th>3</th>\n",
       "      <td>1990</td>\n",
       "      <td>3.514</td>\n",
       "      <td>-2.576</td>\n",
       "      <td>-0.270</td>\n",
       "      <td>0.816</td>\n",
       "      <td>1.572</td>\n",
       "      <td>0.161630</td>\n",
       "      <td>0.712</td>\n",
       "      <td>Up</td>\n",
       "    </tr>\n",
       "    <tr>\n",
       "      <th>4</th>\n",
       "      <td>1990</td>\n",
       "      <td>0.712</td>\n",
       "      <td>3.514</td>\n",
       "      <td>-2.576</td>\n",
       "      <td>-0.270</td>\n",
       "      <td>0.816</td>\n",
       "      <td>0.153728</td>\n",
       "      <td>1.178</td>\n",
       "      <td>Up</td>\n",
       "    </tr>\n",
       "    <tr>\n",
       "      <th>...</th>\n",
       "      <td>...</td>\n",
       "      <td>...</td>\n",
       "      <td>...</td>\n",
       "      <td>...</td>\n",
       "      <td>...</td>\n",
       "      <td>...</td>\n",
       "      <td>...</td>\n",
       "      <td>...</td>\n",
       "      <td>...</td>\n",
       "    </tr>\n",
       "    <tr>\n",
       "      <th>1084</th>\n",
       "      <td>2010</td>\n",
       "      <td>-0.861</td>\n",
       "      <td>0.043</td>\n",
       "      <td>-2.173</td>\n",
       "      <td>3.599</td>\n",
       "      <td>0.015</td>\n",
       "      <td>3.205160</td>\n",
       "      <td>2.969</td>\n",
       "      <td>Up</td>\n",
       "    </tr>\n",
       "    <tr>\n",
       "      <th>1085</th>\n",
       "      <td>2010</td>\n",
       "      <td>2.969</td>\n",
       "      <td>-0.861</td>\n",
       "      <td>0.043</td>\n",
       "      <td>-2.173</td>\n",
       "      <td>3.599</td>\n",
       "      <td>4.242568</td>\n",
       "      <td>1.281</td>\n",
       "      <td>Up</td>\n",
       "    </tr>\n",
       "    <tr>\n",
       "      <th>1086</th>\n",
       "      <td>2010</td>\n",
       "      <td>1.281</td>\n",
       "      <td>2.969</td>\n",
       "      <td>-0.861</td>\n",
       "      <td>0.043</td>\n",
       "      <td>-2.173</td>\n",
       "      <td>4.835082</td>\n",
       "      <td>0.283</td>\n",
       "      <td>Up</td>\n",
       "    </tr>\n",
       "    <tr>\n",
       "      <th>1087</th>\n",
       "      <td>2010</td>\n",
       "      <td>0.283</td>\n",
       "      <td>1.281</td>\n",
       "      <td>2.969</td>\n",
       "      <td>-0.861</td>\n",
       "      <td>0.043</td>\n",
       "      <td>4.454044</td>\n",
       "      <td>1.034</td>\n",
       "      <td>Up</td>\n",
       "    </tr>\n",
       "    <tr>\n",
       "      <th>1088</th>\n",
       "      <td>2010</td>\n",
       "      <td>1.034</td>\n",
       "      <td>0.283</td>\n",
       "      <td>1.281</td>\n",
       "      <td>2.969</td>\n",
       "      <td>-0.861</td>\n",
       "      <td>2.707105</td>\n",
       "      <td>0.069</td>\n",
       "      <td>Up</td>\n",
       "    </tr>\n",
       "  </tbody>\n",
       "</table>\n",
       "<p>1089 rows × 9 columns</p>\n",
       "</div>"
      ],
      "text/plain": [
       "      Year   Lag1   Lag2   Lag3   Lag4   Lag5    Volume  Today Direction\n",
       "0     1990  0.816  1.572 -3.936 -0.229 -3.484  0.154976 -0.270      Down\n",
       "1     1990 -0.270  0.816  1.572 -3.936 -0.229  0.148574 -2.576      Down\n",
       "2     1990 -2.576 -0.270  0.816  1.572 -3.936  0.159837  3.514        Up\n",
       "3     1990  3.514 -2.576 -0.270  0.816  1.572  0.161630  0.712        Up\n",
       "4     1990  0.712  3.514 -2.576 -0.270  0.816  0.153728  1.178        Up\n",
       "...    ...    ...    ...    ...    ...    ...       ...    ...       ...\n",
       "1084  2010 -0.861  0.043 -2.173  3.599  0.015  3.205160  2.969        Up\n",
       "1085  2010  2.969 -0.861  0.043 -2.173  3.599  4.242568  1.281        Up\n",
       "1086  2010  1.281  2.969 -0.861  0.043 -2.173  4.835082  0.283        Up\n",
       "1087  2010  0.283  1.281  2.969 -0.861  0.043  4.454044  1.034        Up\n",
       "1088  2010  1.034  0.283  1.281  2.969 -0.861  2.707105  0.069        Up\n",
       "\n",
       "[1089 rows x 9 columns]"
      ]
     },
     "execution_count": 11,
     "metadata": {},
     "output_type": "execute_result"
    }
   ],
   "source": [
    "from ISLP import load_data\n",
    "weekly_df = load_data(\"Weekly\")\n",
    "weekly_df"
   ]
  },
  {
   "cell_type": "code",
   "execution_count": 24,
   "id": "f7e633eb",
   "metadata": {},
   "outputs": [
    {
     "name": "stdout",
     "output_type": "stream",
     "text": [
      "Optimization terminated successfully.\n",
      "         Current function value: 0.683297\n",
      "         Iterations 4\n"
     ]
    },
    {
     "data": {
      "text/html": [
       "<table class=\"simpletable\">\n",
       "<caption>Logit Regression Results</caption>\n",
       "<tr>\n",
       "  <th>Dep. Variable:</th>       <td>Direction</td>    <th>  No. Observations:  </th>  <td>  1089</td> \n",
       "</tr>\n",
       "<tr>\n",
       "  <th>Model:</th>                 <td>Logit</td>      <th>  Df Residuals:      </th>  <td>  1086</td> \n",
       "</tr>\n",
       "<tr>\n",
       "  <th>Method:</th>                 <td>MLE</td>       <th>  Df Model:          </th>  <td>     2</td> \n",
       "</tr>\n",
       "<tr>\n",
       "  <th>Date:</th>            <td>Fri, 04 Aug 2023</td> <th>  Pseudo R-squ.:     </th> <td>0.005335</td>\n",
       "</tr>\n",
       "<tr>\n",
       "  <th>Time:</th>                <td>16:25:00</td>     <th>  Log-Likelihood:    </th> <td> -744.11</td>\n",
       "</tr>\n",
       "<tr>\n",
       "  <th>converged:</th>             <td>True</td>       <th>  LL-Null:           </th> <td> -748.10</td>\n",
       "</tr>\n",
       "<tr>\n",
       "  <th>Covariance Type:</th>     <td>nonrobust</td>    <th>  LLR p-value:       </th>  <td>0.01848</td>\n",
       "</tr>\n",
       "</table>\n",
       "<table class=\"simpletable\">\n",
       "<tr>\n",
       "    <td></td>       <th>coef</th>     <th>std err</th>      <th>z</th>      <th>P>|z|</th>  <th>[0.025</th>    <th>0.975]</th>  \n",
       "</tr>\n",
       "<tr>\n",
       "  <th>const</th> <td>    0.2212</td> <td>    0.061</td> <td>    3.599</td> <td> 0.000</td> <td>    0.101</td> <td>    0.342</td>\n",
       "</tr>\n",
       "<tr>\n",
       "  <th>Lag1</th>  <td>   -0.0387</td> <td>    0.026</td> <td>   -1.477</td> <td> 0.140</td> <td>   -0.090</td> <td>    0.013</td>\n",
       "</tr>\n",
       "<tr>\n",
       "  <th>Lag2</th>  <td>    0.0602</td> <td>    0.027</td> <td>    2.270</td> <td> 0.023</td> <td>    0.008</td> <td>    0.112</td>\n",
       "</tr>\n",
       "</table>"
      ],
      "text/plain": [
       "<class 'statsmodels.iolib.summary.Summary'>\n",
       "\"\"\"\n",
       "                           Logit Regression Results                           \n",
       "==============================================================================\n",
       "Dep. Variable:              Direction   No. Observations:                 1089\n",
       "Model:                          Logit   Df Residuals:                     1086\n",
       "Method:                           MLE   Df Model:                            2\n",
       "Date:                Fri, 04 Aug 2023   Pseudo R-squ.:                0.005335\n",
       "Time:                        16:25:00   Log-Likelihood:                -744.11\n",
       "converged:                       True   LL-Null:                       -748.10\n",
       "Covariance Type:            nonrobust   LLR p-value:                   0.01848\n",
       "==============================================================================\n",
       "                 coef    std err          z      P>|z|      [0.025      0.975]\n",
       "------------------------------------------------------------------------------\n",
       "const          0.2212      0.061      3.599      0.000       0.101       0.342\n",
       "Lag1          -0.0387      0.026     -1.477      0.140      -0.090       0.013\n",
       "Lag2           0.0602      0.027      2.270      0.023       0.008       0.112\n",
       "==============================================================================\n",
       "\"\"\""
      ]
     },
     "execution_count": 24,
     "metadata": {},
     "output_type": "execute_result"
    }
   ],
   "source": [
    "Lag_1_2 = weekly_df[[\"Lag1\", \"Lag2\"]]\n",
    "Lag_1_2 = sm.add_constant(Lag_1_2)\n",
    "y = weekly_df.Direction.map({\"Down\":0, \"Up\": 1})\n",
    "\n",
    "lm_logit = sm.Logit(y, Lag_1_2).fit()\n",
    "lm_logit.summary()"
   ]
  },
  {
   "cell_type": "markdown",
   "id": "b736a04d",
   "metadata": {},
   "source": [
    "#### (b)  Fit a logistic regression model that predicts Direction using Lag1 and Lag2 using all but the frst observation."
   ]
  },
  {
   "cell_type": "code",
   "execution_count": 26,
   "id": "d9dfd865",
   "metadata": {},
   "outputs": [
    {
     "data": {
      "text/html": [
       "<table class=\"simpletable\">\n",
       "<caption>Generalized Linear Model Regression Results</caption>\n",
       "<tr>\n",
       "  <th>Dep. Variable:</th>       <td>Direction</td>    <th>  No. Observations:  </th>  <td>  1088</td> \n",
       "</tr>\n",
       "<tr>\n",
       "  <th>Model:</th>                  <td>GLM</td>       <th>  Df Residuals:      </th>  <td>  1085</td> \n",
       "</tr>\n",
       "<tr>\n",
       "  <th>Model Family:</th>        <td>Binomial</td>     <th>  Df Model:          </th>  <td>     2</td> \n",
       "</tr>\n",
       "<tr>\n",
       "  <th>Link Function:</th>         <td>Logit</td>      <th>  Scale:             </th> <td>  1.0000</td>\n",
       "</tr>\n",
       "<tr>\n",
       "  <th>Method:</th>                <td>IRLS</td>       <th>  Log-Likelihood:    </th> <td> -743.26</td>\n",
       "</tr>\n",
       "<tr>\n",
       "  <th>Date:</th>            <td>Fri, 04 Aug 2023</td> <th>  Deviance:          </th> <td>  1486.5</td>\n",
       "</tr>\n",
       "<tr>\n",
       "  <th>Time:</th>                <td>16:25:39</td>     <th>  Pearson chi2:      </th> <td>1.09e+03</td>\n",
       "</tr>\n",
       "<tr>\n",
       "  <th>No. Iterations:</th>          <td>4</td>        <th>  Pseudo R-squ. (CS):</th> <td>0.007373</td>\n",
       "</tr>\n",
       "<tr>\n",
       "  <th>Covariance Type:</th>     <td>nonrobust</td>    <th>                     </th>     <td> </td>   \n",
       "</tr>\n",
       "</table>\n",
       "<table class=\"simpletable\">\n",
       "<tr>\n",
       "    <td></td>       <th>coef</th>     <th>std err</th>      <th>z</th>      <th>P>|z|</th>  <th>[0.025</th>    <th>0.975]</th>  \n",
       "</tr>\n",
       "<tr>\n",
       "  <th>const</th> <td>    0.2232</td> <td>    0.061</td> <td>    3.630</td> <td> 0.000</td> <td>    0.103</td> <td>    0.344</td>\n",
       "</tr>\n",
       "<tr>\n",
       "  <th>Lag1</th>  <td>   -0.0384</td> <td>    0.026</td> <td>   -1.466</td> <td> 0.143</td> <td>   -0.090</td> <td>    0.013</td>\n",
       "</tr>\n",
       "<tr>\n",
       "  <th>Lag2</th>  <td>    0.0608</td> <td>    0.027</td> <td>    2.291</td> <td> 0.022</td> <td>    0.009</td> <td>    0.113</td>\n",
       "</tr>\n",
       "</table>"
      ],
      "text/plain": [
       "<class 'statsmodels.iolib.summary.Summary'>\n",
       "\"\"\"\n",
       "                 Generalized Linear Model Regression Results                  \n",
       "==============================================================================\n",
       "Dep. Variable:              Direction   No. Observations:                 1088\n",
       "Model:                            GLM   Df Residuals:                     1085\n",
       "Model Family:                Binomial   Df Model:                            2\n",
       "Link Function:                  Logit   Scale:                          1.0000\n",
       "Method:                          IRLS   Log-Likelihood:                -743.26\n",
       "Date:                Fri, 04 Aug 2023   Deviance:                       1486.5\n",
       "Time:                        16:25:39   Pearson chi2:                 1.09e+03\n",
       "No. Iterations:                     4   Pseudo R-squ. (CS):           0.007373\n",
       "Covariance Type:            nonrobust                                         \n",
       "==============================================================================\n",
       "                 coef    std err          z      P>|z|      [0.025      0.975]\n",
       "------------------------------------------------------------------------------\n",
       "const          0.2232      0.061      3.630      0.000       0.103       0.344\n",
       "Lag1          -0.0384      0.026     -1.466      0.143      -0.090       0.013\n",
       "Lag2           0.0608      0.027      2.291      0.022       0.009       0.113\n",
       "==============================================================================\n",
       "\"\"\""
      ]
     },
     "execution_count": 26,
     "metadata": {},
     "output_type": "execute_result"
    }
   ],
   "source": [
    "lm_logit_glm = sm.GLM(y.iloc[1:], Lag_1_2.iloc[1:], family=sm.families.Binomial()).fit()\n",
    "lm_logit_glm.summary()"
   ]
  },
  {
   "cell_type": "markdown",
   "id": "8c721ac6",
   "metadata": {},
   "source": [
    "#### (c) Use the model from (b) to predict the direction of the frst observation. You can do this by predicting that the frst observation will go up if P(Direction = \"Up\"|Lag1, Lag2) > 0.5. Was this observation correctly classifed?"
   ]
  },
  {
   "cell_type": "code",
   "execution_count": 37,
   "id": "0f4a0008",
   "metadata": {},
   "outputs": [
    {
     "name": "stdout",
     "output_type": "stream",
     "text": [
      "True:  0 \n",
      "Predicted:  True\n"
     ]
    }
   ],
   "source": [
    "pred = (lm_logit_glm.predict(Lag_1_2.iloc[0]))[0] > 0.5\n",
    "print(\"True: \", y[0], \"\\nPredicted: \", pred)"
   ]
  },
  {
   "cell_type": "markdown",
   "id": "2e312dd7",
   "metadata": {},
   "source": [
    "The first observation is misclassified."
   ]
  },
  {
   "cell_type": "markdown",
   "id": "37dd300a",
   "metadata": {},
   "source": [
    "#### (d) Write a for loop from i = 1 to i = n, where n is the number of observations in the data set, that performs each of the following steps:\n",
    "  * Fit a logistic regression model using all but the ith observation to predict Direction using Lag1 and Lag2.\n",
    "  * Compute the posterior probability of the market moving up for the ith observation.\n",
    "  *  Use the posterior probability for the ith observation in order to predict whether or not the market moves up.\n",
    "  * Determine whether or not an error was made in predicting the direction for the ith observation. If an error was made, then indicate this as a 1, and otherwise indicate it as a 0."
   ]
  },
  {
   "cell_type": "code",
   "execution_count": 46,
   "id": "8b772c0b",
   "metadata": {},
   "outputs": [],
   "source": [
    "post_prob = np.zeros(len(y))\n",
    "\n",
    "for i in range(len(y)):\n",
    "    model = sm.Logit(y[y.index != i], Lag_1_2[y.index !=i]).fit(disp=0)\n",
    "    post_prob[i] = model.predict(Lag_1_2.iloc[i])[0]"
   ]
  },
  {
   "cell_type": "markdown",
   "id": "2498359a",
   "metadata": {},
   "source": [
    "#### (e) Take the average of the n numbers obtained in (d)iv in order to obtain the LOOCV estimate for the test error. Comment on the results."
   ]
  },
  {
   "cell_type": "code",
   "execution_count": 62,
   "id": "868eb230",
   "metadata": {},
   "outputs": [
    {
     "name": "stdout",
     "output_type": "stream",
     "text": [
      "Logit Model:  0.44995408631772266\n"
     ]
    }
   ],
   "source": [
    "post_prob = post_prob > 0.5\n",
    "errors = post_prob != y\n",
    "print(\"Logit Model: \", errors.mean())"
   ]
  },
  {
   "cell_type": "code",
   "execution_count": 64,
   "id": "ccdaeca9",
   "metadata": {},
   "outputs": [
    {
     "name": "stdout",
     "output_type": "stream",
     "text": [
      "Constant Model:  0.4444444444444444\n"
     ]
    }
   ],
   "source": [
    "post_prob = post_prob > 0.5\n",
    "errors = np.ones(len(y)) != y\n",
    "print(\"Constant Model: \",errors.mean())"
   ]
  },
  {
   "cell_type": "markdown",
   "id": "40a37436",
   "metadata": {},
   "source": [
    "The error rate is 45%, which is not that good. The model is worse than a constant model that always predicts the \"Up\" direction."
   ]
  },
  {
   "attachments": {
    "image.png": {
     "image/png": "[encoded data removed]"
    }
   },
   "cell_type": "markdown",
   "id": "b22f7a7e",
   "metadata": {},
   "source": [
    "### 8. We will now perform cross-validation on a simulated data set.\n",
    "#### (a) Generate a simulated data set as follows\n",
    "![image.png](attachment:image.png)\n",
    "\n",
    "In this data set, what is n and what is p? Write out the model used to generate the data in equation form.\n",
    "\n",
    "$$\n",
    "y = -2x^2 + x + \\epsilon\n",
    "$$"
   ]
  },
  {
   "cell_type": "code",
   "execution_count": 66,
   "id": "ef2654a7",
   "metadata": {},
   "outputs": [],
   "source": [
    "rng = np.random.default_rng(1)\n",
    "x = rng.normal(size=100)\n",
    "y = x - 2 * x**2 + rng.normal(size=100)\n",
    "\n",
    "# n is 100\n",
    "# p is 2"
   ]
  },
  {
   "cell_type": "markdown",
   "id": "6b35f17f",
   "metadata": {},
   "source": [
    "#### (b)  Create a scatterplot of X against Y . Comment on what you fnd."
   ]
  },
  {
   "cell_type": "code",
   "execution_count": 67,
   "id": "7d8701f5",
   "metadata": {},
   "outputs": [
    {
     "data": {
      "text/plain": [
       "<AxesSubplot: >"
      ]
     },
     "execution_count": 67,
     "metadata": {},
     "output_type": "execute_result"
    },
    {
     "data": {
      "image/png": "[encoded data removed]",
      "text/plain": [
       "<Figure size 640x480 with 1 Axes>"
      ]
     },
     "metadata": {},
     "output_type": "display_data"
    }
   ],
   "source": [
    "sns.scatterplot(x=x, y=y)"
   ]
  },
  {
   "cell_type": "markdown",
   "id": "fb2265a8",
   "metadata": {},
   "source": [
    "The plot looks like an inverted parabola, as expected"
   ]
  },
  {
   "attachments": {
    "image.png": {
     "image/png": "[encoded data removed]"
    }
   },
   "cell_type": "markdown",
   "id": "1279198f",
   "metadata": {},
   "source": [
    "#### (c) Set a random seed, and then compute the LOOCV errors that result from ftting the following four models using least squares:\n",
    "![image.png](attachment:image.png)"
   ]
  },
  {
   "cell_type": "code",
   "execution_count": 137,
   "id": "67404fbf",
   "metadata": {},
   "outputs": [],
   "source": [
    "from sklearn.model_selection import KFold\n",
    "from sklearn.model_selection import cross_val_score\n",
    "from sklearn.linear_model import LinearRegression as lr\n",
    "\n",
    "def scorer(estimator, X, y):\n",
    "    pred = estimator.predict(X)\n",
    "    resid = y - pred\n",
    "    return resid\n",
    "\n",
    "def try_models(seed=1):\n",
    "    \n",
    "    rnd = np.random.default_rng(seed)\n",
    "    x = rnd.normal(size=100)\n",
    "    y = x - 2 * x**2 + rnd.normal(size=100)\n",
    "    \n",
    "    df_ = pd.DataFrame(np.ones((len(y),1)), columns=[\"const\"])\n",
    "    df_[\"x\"] = x\n",
    "    df_[\"x^2\"] = x**2\n",
    "    df_[\"x^3\"] = x**3\n",
    "    df_[\"x^4\"] = x**4\n",
    "    df_[\"x^5\"] = x**5\n",
    "    \n",
    "    scores = []\n",
    "    for i in range(len(df_.columns) - 1):\n",
    "        folds = KFold(n_splits=len(y))\n",
    "\n",
    "        res = cross_val_score(lr(),\n",
    "                             df_[df_.columns[1:i+2]],\n",
    "                             y,\n",
    "                             cv=folds,\n",
    "                             scoring=scorer)\n",
    "        \n",
    "        mse = np.array(res).std() ** 2\n",
    "        scores.append(mse)\n",
    "        \n",
    "    return np.array(scores)"
   ]
  },
  {
   "cell_type": "code",
   "execution_count": 138,
   "id": "6fde548f",
   "metadata": {},
   "outputs": [
    {
     "data": {
      "text/plain": [
       "array([6.63165582, 1.12287638, 1.30061327, 1.33063678, 1.50346854])"
      ]
     },
     "execution_count": 138,
     "metadata": {},
     "output_type": "execute_result"
    }
   ],
   "source": [
    "scores1 = try_models()\n",
    "scores1"
   ]
  },
  {
   "cell_type": "markdown",
   "id": "3a3a0754",
   "metadata": {},
   "source": [
    "#### (d)  Repeat (c) using another random seed, and report your results. Are your results the same as what you got in (c)? Why?"
   ]
  },
  {
   "cell_type": "code",
   "execution_count": 139,
   "id": "b21ae06c",
   "metadata": {},
   "outputs": [
    {
     "data": {
      "text/plain": [
       "array([10.86206356,  1.10853636,  1.15491709,  1.23580509,  1.09332341])"
      ]
     },
     "execution_count": 139,
     "metadata": {},
     "output_type": "execute_result"
    }
   ],
   "source": [
    "scores1 = try_models(432423)\n",
    "scores1"
   ]
  },
  {
   "cell_type": "markdown",
   "id": "d1fa179b",
   "metadata": {},
   "source": [
    "The MSE are quite different. The reason is that LOOCV has high variance, hence changing the noise in the data greatly influenced the estimates."
   ]
  },
  {
   "cell_type": "markdown",
   "id": "a31b456d",
   "metadata": {},
   "source": [
    "#### (e) Which of the models in (c) had the smallest LOOCV error? Is this what you expected? Explain your answer.\n",
    "\n",
    "The second model has the smallest LOOCV error. IT is what we expect since it matches the way the data is generated. The second model models a quadratic, which is the same as the true distribution of y."
   ]
  },
  {
   "cell_type": "markdown",
   "id": "f023dbb8",
   "metadata": {},
   "source": [
    "#### (f) Comment on the statistical signifcance of the coefcient estimates that results from ftting each of the models in (c) using least squares. Do these results agree with the conclusions drawn based on the cross-validation results?"
   ]
  },
  {
   "cell_type": "code",
   "execution_count": 142,
   "id": "b0d9b0d4",
   "metadata": {},
   "outputs": [
    {
     "name": "stdout",
     "output_type": "stream",
     "text": [
      "                            OLS Regression Results                            \n",
      "==============================================================================\n",
      "Dep. Variable:                      y   R-squared:                       0.000\n",
      "Model:                            OLS   Adj. R-squared:                  0.000\n",
      "Method:                 Least Squares   F-statistic:                       nan\n",
      "Date:                Fri, 04 Aug 2023   Prob (F-statistic):                nan\n",
      "Time:                        18:30:16   Log-Likelihood:                -224.99\n",
      "No. Observations:                 100   AIC:                             452.0\n",
      "Df Residuals:                      99   BIC:                             454.6\n",
      "Df Model:                           0                                         \n",
      "Covariance Type:            nonrobust                                         \n",
      "==============================================================================\n",
      "                 coef    std err          t      P>|t|      [0.025      0.975]\n",
      "------------------------------------------------------------------------------\n",
      "const         -1.4357      0.231     -6.223      0.000      -1.893      -0.978\n",
      "==============================================================================\n",
      "Omnibus:                       55.675   Durbin-Watson:                   2.118\n",
      "Prob(Omnibus):                  0.000   Jarque-Bera (JB):              198.441\n",
      "Skew:                          -1.928   Prob(JB):                     8.11e-44\n",
      "Kurtosis:                       8.723   Cond. No.                         1.00\n",
      "==============================================================================\n",
      "\n",
      "Notes:\n",
      "[1] Standard Errors assume that the covariance matrix of the errors is correctly specified.\n",
      "                            OLS Regression Results                            \n",
      "==============================================================================\n",
      "Dep. Variable:                      y   R-squared:                       0.071\n",
      "Model:                            OLS   Adj. R-squared:                  0.061\n",
      "Method:                 Least Squares   F-statistic:                     7.451\n",
      "Date:                Fri, 04 Aug 2023   Prob (F-statistic):            0.00752\n",
      "Time:                        18:30:16   Log-Likelihood:                -221.33\n",
      "No. Observations:                 100   AIC:                             446.7\n",
      "Df Residuals:                      98   BIC:                             451.9\n",
      "Df Model:                           1                                         \n",
      "Covariance Type:            nonrobust                                         \n",
      "==============================================================================\n",
      "                 coef    std err          t      P>|t|      [0.025      0.975]\n",
      "------------------------------------------------------------------------------\n",
      "const         -1.4915      0.224     -6.644      0.000      -1.937      -1.046\n",
      "x              0.6818      0.250      2.730      0.008       0.186       1.177\n",
      "==============================================================================\n",
      "Omnibus:                       41.404   Durbin-Watson:                   2.055\n",
      "Prob(Omnibus):                  0.000   Jarque-Bera (JB):               98.351\n",
      "Skew:                          -1.559   Prob(JB):                     4.40e-22\n",
      "Kurtosis:                       6.726   Cond. No.                         1.15\n",
      "==============================================================================\n",
      "\n",
      "Notes:\n",
      "[1] Standard Errors assume that the covariance matrix of the errors is correctly specified.\n",
      "                            OLS Regression Results                            \n",
      "==============================================================================\n",
      "Dep. Variable:                      y   R-squared:                       0.842\n",
      "Model:                            OLS   Adj. R-squared:                  0.839\n",
      "Method:                 Least Squares   F-statistic:                     259.4\n",
      "Date:                Fri, 04 Aug 2023   Prob (F-statistic):           1.18e-39\n",
      "Time:                        18:30:16   Log-Likelihood:                -132.59\n",
      "No. Observations:                 100   AIC:                             271.2\n",
      "Df Residuals:                      97   BIC:                             279.0\n",
      "Df Model:                           2                                         \n",
      "Covariance Type:            nonrobust                                         \n",
      "==============================================================================\n",
      "                 coef    std err          t      P>|t|      [0.025      0.975]\n",
      "------------------------------------------------------------------------------\n",
      "const          0.0353      0.116      0.303      0.762      -0.196       0.266\n",
      "x              1.0429      0.105      9.963      0.000       0.835       1.251\n",
      "x^2           -1.9268      0.088    -21.800      0.000      -2.102      -1.751\n",
      "==============================================================================\n",
      "Omnibus:                        0.843   Durbin-Watson:                   1.951\n",
      "Prob(Omnibus):                  0.656   Jarque-Bera (JB):                0.386\n",
      "Skew:                          -0.031   Prob(JB):                        0.824\n",
      "Kurtosis:                       3.298   Cond. No.                         2.19\n",
      "==============================================================================\n",
      "\n",
      "Notes:\n",
      "[1] Standard Errors assume that the covariance matrix of the errors is correctly specified.\n",
      "                            OLS Regression Results                            \n",
      "==============================================================================\n",
      "Dep. Variable:                      y   R-squared:                       0.843\n",
      "Model:                            OLS   Adj. R-squared:                  0.838\n",
      "Method:                 Least Squares   F-statistic:                     171.6\n",
      "Date:                Fri, 04 Aug 2023   Prob (F-statistic):           1.92e-38\n",
      "Time:                        18:30:16   Log-Likelihood:                -132.46\n",
      "No. Observations:                 100   AIC:                             272.9\n",
      "Df Residuals:                      96   BIC:                             283.3\n",
      "Df Model:                           3                                         \n",
      "Covariance Type:            nonrobust                                         \n",
      "==============================================================================\n",
      "                 coef    std err          t      P>|t|      [0.025      0.975]\n",
      "------------------------------------------------------------------------------\n",
      "const          0.0405      0.117      0.345      0.731      -0.192       0.273\n",
      "x              1.1173      0.185      6.023      0.000       0.749       1.485\n",
      "x^2           -1.9319      0.089    -21.623      0.000      -2.109      -1.755\n",
      "x^3           -0.0334      0.069     -0.486      0.628      -0.170       0.103\n",
      "==============================================================================\n",
      "Omnibus:                        0.695   Durbin-Watson:                   1.933\n",
      "Prob(Omnibus):                  0.706   Jarque-Bera (JB):                0.277\n",
      "Skew:                          -0.029   Prob(JB):                        0.871\n",
      "Kurtosis:                       3.251   Cond. No.                         5.33\n",
      "==============================================================================\n",
      "\n",
      "Notes:\n",
      "[1] Standard Errors assume that the covariance matrix of the errors is correctly specified.\n",
      "                            OLS Regression Results                            \n",
      "==============================================================================\n",
      "Dep. Variable:                      y   R-squared:                       0.844\n",
      "Model:                            OLS   Adj. R-squared:                  0.837\n",
      "Method:                 Least Squares   F-statistic:                     128.5\n",
      "Date:                Fri, 04 Aug 2023   Prob (F-statistic):           1.92e-37\n",
      "Time:                        18:30:16   Log-Likelihood:                -132.09\n",
      "No. Observations:                 100   AIC:                             274.2\n",
      "Df Residuals:                      95   BIC:                             287.2\n",
      "Df Model:                           4                                         \n",
      "Covariance Type:            nonrobust                                         \n",
      "==============================================================================\n",
      "                 coef    std err          t      P>|t|      [0.025      0.975]\n",
      "------------------------------------------------------------------------------\n",
      "const          0.1021      0.138      0.738      0.462      -0.172       0.377\n",
      "x              1.1451      0.189      6.069      0.000       0.771       1.520\n",
      "x^2           -2.1104      0.229     -9.196      0.000      -2.566      -1.655\n",
      "x^3           -0.0359      0.069     -0.520      0.604      -0.173       0.101\n",
      "x^4            0.0455      0.054      0.845      0.400      -0.061       0.153\n",
      "==============================================================================\n",
      "Omnibus:                        0.522   Durbin-Watson:                   1.956\n",
      "Prob(Omnibus):                  0.770   Jarque-Bera (JB):                0.167\n",
      "Skew:                          -0.033   Prob(JB):                        0.920\n",
      "Kurtosis:                       3.189   Cond. No.                         14.1\n",
      "==============================================================================\n",
      "\n",
      "Notes:\n",
      "[1] Standard Errors assume that the covariance matrix of the errors is correctly specified.\n",
      "                            OLS Regression Results                            \n",
      "==============================================================================\n",
      "Dep. Variable:                      y   R-squared:                       0.844\n",
      "Model:                            OLS   Adj. R-squared:                  0.836\n",
      "Method:                 Least Squares   F-statistic:                     101.8\n",
      "Date:                Fri, 04 Aug 2023   Prob (F-statistic):           2.25e-36\n",
      "Time:                        18:30:16   Log-Likelihood:                -132.05\n",
      "No. Observations:                 100   AIC:                             276.1\n",
      "Df Residuals:                      94   BIC:                             291.7\n",
      "Df Model:                           5                                         \n",
      "Covariance Type:            nonrobust                                         \n",
      "==============================================================================\n",
      "                 coef    std err          t      P>|t|      [0.025      0.975]\n",
      "------------------------------------------------------------------------------\n",
      "const          0.1028      0.139      0.740      0.461      -0.173       0.379\n",
      "x              1.2081      0.306      3.949      0.000       0.601       1.816\n",
      "x^2           -2.0984      0.235     -8.925      0.000      -2.565      -1.632\n",
      "x^3           -0.1074      0.281     -0.382      0.703      -0.665       0.450\n",
      "x^4            0.0430      0.055      0.781      0.437      -0.066       0.152\n",
      "x^5            0.0129      0.049      0.263      0.793      -0.085       0.110\n",
      "==============================================================================\n",
      "Omnibus:                        0.512   Durbin-Watson:                   1.954\n",
      "Prob(Omnibus):                  0.774   Jarque-Bera (JB):                0.162\n",
      "Skew:                          -0.035   Prob(JB):                        0.922\n",
      "Kurtosis:                       3.184   Cond. No.                         45.2\n",
      "==============================================================================\n",
      "\n",
      "Notes:\n",
      "[1] Standard Errors assume that the covariance matrix of the errors is correctly specified.\n"
     ]
    }
   ],
   "source": [
    "seed = 123\n",
    "rnd = np.random.default_rng(seed)\n",
    "x = rnd.normal(size=100)\n",
    "y = x - 2 * x**2 + rnd.normal(size=100)\n",
    "\n",
    "df_ = pd.DataFrame(np.ones((len(y),1)), columns=[\"const\"])\n",
    "df_[\"x\"] = x\n",
    "df_[\"x^2\"] = x**2\n",
    "df_[\"x^3\"] = x**3\n",
    "df_[\"x^4\"] = x**4\n",
    "df_[\"x^5\"] = x**5\n",
    "\n",
    "for i in range(len(df_.columns)):\n",
    "    model = sm.OLS(y, df_[df_.columns[:i+1]]).fit()\n",
    "    print(model.summary())"
   ]
  },
  {
   "cell_type": "markdown",
   "id": "b72051a5",
   "metadata": {},
   "source": [
    "From the t-statistics we see that the x^3, x^4, x^5 variables are not significant, which corroborates with the finding with our LOOCV."
   ]
  },
  {
   "cell_type": "markdown",
   "id": "2ea6b426",
   "metadata": {},
   "source": [
    "### 9. We will now consider the Boston housing data set, from the ISLP library.\n",
    "#### (a)  Based on this data set, provide an estimate for the population mean of medv. Call this estimate µˆ."
   ]
  },
  {
   "cell_type": "code",
   "execution_count": 146,
   "id": "e425e601",
   "metadata": {},
   "outputs": [
    {
     "name": "stdout",
     "output_type": "stream",
     "text": [
      "MEDV Population Mean Estimate:  22.532806324110677\n"
     ]
    }
   ],
   "source": [
    "boston_df = load_data(\"Boston\")\n",
    "mu = boston_df[\"medv\"].mean()\n",
    "print(\"MEDV Population Mean Estimate: \", mu)"
   ]
  },
  {
   "cell_type": "markdown",
   "id": "bac5ddfb",
   "metadata": {},
   "source": [
    "#### (b) Provide an estimate of the standard error of µ. Interpret this result."
   ]
  },
  {
   "cell_type": "code",
   "execution_count": 148,
   "id": "65fd4458",
   "metadata": {},
   "outputs": [
    {
     "name": "stdout",
     "output_type": "stream",
     "text": [
      "MEDV Population Mean Standanrd Error : 0.4088611474975351\n"
     ]
    }
   ],
   "source": [
    "std_hat = boston_df[\"medv\"].std() / len(boston_df)**0.5\n",
    "print(\"MEDV Population Mean Standanrd Error :\", std_hat)"
   ]
  },
  {
   "cell_type": "markdown",
   "id": "fd55718a",
   "metadata": {},
   "source": [
    "#### (c) Now estimate the standard error of µ using the bootstrap. How does this compare to your answer from (b)?"
   ]
  },
  {
   "cell_type": "code",
   "execution_count": 161,
   "id": "2c450493",
   "metadata": {},
   "outputs": [
    {
     "name": "stdout",
     "output_type": "stream",
     "text": [
      "Booststrap Mean STD:  0.40898818361867406\n"
     ]
    }
   ],
   "source": [
    "medv = boston_df.medv\n",
    "rnd = np.random.default_rng(42)\n",
    "\n",
    "samples = 1000\n",
    "means = np.zeros(samples)\n",
    "\n",
    "for i in range(samples):\n",
    "    bootstrap = rnd.choice(medv, size=medv.shape)\n",
    "    means[i] = bootstrap.mean()\n",
    "    \n",
    "std = means.std()\n",
    "print(\"Booststrap Mean STD: \", std)"
   ]
  },
  {
   "cell_type": "markdown",
   "id": "34e97556",
   "metadata": {},
   "source": [
    "The bootstrap estimate is very near our estimate in part (b).\n"
   ]
  },
  {
   "cell_type": "markdown",
   "id": "3abd5c8e",
   "metadata": {},
   "source": [
    "#### (d) Based on your bootstrap estimate from (c), provide a 95 % confidence interval for the mean of medv. Compare it to the results obtained by using Boston['medv'].std() and the two standard error rule (3.9)."
   ]
  },
  {
   "cell_type": "code",
   "execution_count": 163,
   "id": "3987495a",
   "metadata": {},
   "outputs": [
    {
     "name": "stdout",
     "output_type": "stream",
     "text": [
      "Booststrap:  [21.732057073150877, 23.335290752936082]\n",
      "Formula:  [21.73143847501551, 23.334174173205845]\n"
     ]
    }
   ],
   "source": [
    "conf_int_bootstrap = [means.mean() - std * 1.96, means.mean() + std * 1.96]\n",
    "conf_int_ = [mu - std_hat * 1.96, mu + std_hat * 1.96]\n",
    "\n",
    "print(\"Booststrap: \", conf_int_bootstrap)\n",
    "print(\"Formula: \", conf_int_)"
   ]
  },
  {
   "cell_type": "markdown",
   "id": "b2e12eb6",
   "metadata": {},
   "source": [
    "#### (e) Based on this data set, provide an estimate, $\\hat\\mu_{med} $, for the median value of medv in the population."
   ]
  },
  {
   "cell_type": "code",
   "execution_count": 164,
   "id": "272186e2",
   "metadata": {},
   "outputs": [
    {
     "data": {
      "text/plain": [
       "21.2"
      ]
     },
     "execution_count": 164,
     "metadata": {},
     "output_type": "execute_result"
    }
   ],
   "source": [
    "medv.median()"
   ]
  },
  {
   "cell_type": "markdown",
   "id": "d2158d78",
   "metadata": {},
   "source": [
    "#### (f) We now would like to estimate the standard error of µˆmed. Unfortunately, there is no simple formula for computing the standard error of the median. Instead, estimate the standard error of the median using the bootstrap. Comment on your fndings."
   ]
  },
  {
   "cell_type": "code",
   "execution_count": 169,
   "id": "1d96bf99",
   "metadata": {},
   "outputs": [
    {
     "data": {
      "text/plain": [
       "0.3625797015829757"
      ]
     },
     "execution_count": 169,
     "metadata": {},
     "output_type": "execute_result"
    }
   ],
   "source": [
    "rnd = np.random.default_rng(456)\n",
    "\n",
    "n = 1000\n",
    "medians = np.zeros(n)\n",
    "\n",
    "for i in range(n):\n",
    "    bootstrap = rnd.choice(medv, size=medv.shape)\n",
    "    \n",
    "    medians[i] = np.median(bootstrap)\n",
    "    \n",
    "med_std = medians.std()\n",
    "med_std"
   ]
  },
  {
   "cell_type": "markdown",
   "id": "03ae0db7",
   "metadata": {},
   "source": [
    "#### (g) Based on this data set, provide an estimate for the tenth percentile of medv in Boston census tracts. Call this quantity µ0.1. (You can use the np.percentile() function.)"
   ]
  },
  {
   "cell_type": "code",
   "execution_count": 171,
   "id": "96016ec1",
   "metadata": {},
   "outputs": [
    {
     "data": {
      "text/plain": [
       "12.75"
      ]
     },
     "execution_count": 171,
     "metadata": {},
     "output_type": "execute_result"
    }
   ],
   "source": [
    "tenth_perc = np.percentile(medv, 10)\n",
    "tenth_perc"
   ]
  },
  {
   "cell_type": "markdown",
   "id": "e54a7679",
   "metadata": {},
   "source": [
    "#### (h) Use the bootstrap to estimate the standard error of µ0.1. Comment on your findings"
   ]
  },
  {
   "cell_type": "code",
   "execution_count": 172,
   "id": "bb52c03f",
   "metadata": {},
   "outputs": [
    {
     "data": {
      "text/plain": [
       "0.48414584321255927"
      ]
     },
     "execution_count": 172,
     "metadata": {},
     "output_type": "execute_result"
    }
   ],
   "source": [
    "rnd = np.random.default_rng(456)\n",
    "\n",
    "n = 1000\n",
    "percs_10 = np.zeros(n)\n",
    "\n",
    "for i in range(n):\n",
    "    bootstrap = rnd.choice(medv, size=medv.shape)\n",
    "    \n",
    "    percs_10[i] = np.percentile(bootstrap, 10)\n",
    "    \n",
    "percs10_std = percs_10.std()\n",
    "percs10_std"
   ]
  },
  {
   "cell_type": "markdown",
   "id": "349c2f69",
   "metadata": {},
   "source": [
    "The 10th percentile has higher variance than the mean and median."
   ]
  },
  {
   "cell_type": "code",
   "execution_count": null,
   "id": "b07d1c73",
   "metadata": {},
   "outputs": [],
   "source": []
  }
 ],
 "metadata": {
  "kernelspec": {
   "display_name": "Python 3 (ipykernel)",
   "language": "python",
   "name": "python3"
  },
  "language_info": {
   "codemirror_mode": {
    "name": "ipython",
    "version": 3
   },
   "file_extension": ".py",
   "mimetype": "text/x-python",
   "name": "python",
   "nbconvert_exporter": "python",
   "pygments_lexer": "ipython3",
   "version": "3.9.6"
  }
 },
 "nbformat": 4,
 "nbformat_minor": 5
}
